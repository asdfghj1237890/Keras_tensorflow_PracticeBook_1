{
 "cells": [
  {
   "cell_type": "code",
   "execution_count": 1,
   "metadata": {},
   "outputs": [],
   "source": [
    "import tensorflow as tf\n",
    "import numpy as np"
   ]
  },
  {
   "cell_type": "markdown",
   "metadata": {},
   "source": [
    "# y= relu ( (X․W ) + b )"
   ]
  },
  {
   "cell_type": "code",
   "execution_count": 2,
   "metadata": {},
   "outputs": [
    {
     "name": "stdout",
     "output_type": "stream",
     "text": [
      "XWb:\n",
      "[[-0.35999998  0.28      ]]\n",
      "y:\n",
      "[[ 0.    0.28]]\n"
     ]
    }
   ],
   "source": [
    "X = tf.Variable([[0.4,0.2,0.4]])\n",
    "\n",
    "W = tf.Variable([[-0.5,-0.2 ],\n",
    "                 [-0.3, 0.4 ],\n",
    "                 [-0.5, 0.2 ]])\n",
    "                         \n",
    "b = tf.Variable([[0.1,0.2]])\n",
    "    \n",
    "XWb =tf.matmul(X,W)+b\n",
    "\n",
    "y=tf.nn.relu(tf.matmul(X,W)+b)\n",
    "\n",
    "with tf.Session() as sess:\n",
    "    init = tf.global_variables_initializer()\n",
    "    sess.run(init)\n",
    "    print('XWb:')    \n",
    "    print(sess.run(XWb ))    \n",
    "    print('y:')    \n",
    "    print(sess.run(y ))"
   ]
  },
  {
   "cell_type": "markdown",
   "metadata": {},
   "source": [
    "# y= sigmoid ( (X․W ) + b )"
   ]
  },
  {
   "cell_type": "code",
   "execution_count": 3,
   "metadata": {},
   "outputs": [
    {
     "name": "stdout",
     "output_type": "stream",
     "text": [
      "XWb:\n",
      "[[-0.35999998  0.28      ]]\n",
      "y:\n",
      "[[ 0.41095957  0.56954622]]\n"
     ]
    }
   ],
   "source": [
    "X = tf.Variable([[0.4,0.2,0.4]])\n",
    "\n",
    "W = tf.Variable([[-0.5,-0.2 ],\n",
    "                 [-0.3, 0.4 ],\n",
    "                 [-0.5, 0.2 ]])\n",
    "\n",
    "b = tf.Variable([[0.1,0.2]])\n",
    "\n",
    "XWb=tf.matmul(X,W)+b\n",
    "\n",
    "y=tf.nn.sigmoid(tf.matmul(X,W)+b)\n",
    "\n",
    "with tf.Session() as sess:\n",
    "    init = tf.global_variables_initializer()\n",
    "    sess.run(init)\n",
    "    print('XWb:')    \n",
    "    print(sess.run(XWb))    \n",
    "    print('y:')    \n",
    "    print(sess.run(y ))"
   ]
  },
  {
   "cell_type": "markdown",
   "metadata": {
    "collapsed": true
   },
   "source": [
    "# 以亂數產生Weight(W)與bais(b) "
   ]
  },
  {
   "cell_type": "code",
   "execution_count": 4,
   "metadata": {},
   "outputs": [
    {
     "name": "stdout",
     "output_type": "stream",
     "text": [
      "b:\n",
      "[[-0.31751364 -0.62895691]]\n",
      "W:\n",
      "[[ 0.28292567 -1.0596267 ]\n",
      " [ 0.60610479 -0.09431824]\n",
      " [-0.80062521  0.35353765]]\n",
      "y:\n",
      "[[ 0.  0.]]\n"
     ]
    }
   ],
   "source": [
    "W = tf.Variable(tf.random_normal([3, 2]))\n",
    "b = tf.Variable(tf.random_normal([1, 2]))\n",
    "X = tf.Variable([[0.4,0.2,0.4]])\n",
    "y=tf.nn.relu(tf.matmul(X,W)+b)\n",
    "with tf.Session() as sess:\n",
    "    init = tf.global_variables_initializer()\n",
    "    sess.run(init)\n",
    "    print('b:')\n",
    "    print(sess.run(b ))    \n",
    "    print('W:')\n",
    "    print(sess.run(W ))\n",
    "    print('y:')\n",
    "    print(sess.run(y ))    "
   ]
  },
  {
   "cell_type": "code",
   "execution_count": 5,
   "metadata": {},
   "outputs": [
    {
     "name": "stdout",
     "output_type": "stream",
     "text": [
      "b:\n",
      "[[ 0.08692614  0.55150914]]\n",
      "W:\n",
      "[[ 0.22514148  1.48604012]\n",
      " [-0.98361814  0.03943006]\n",
      " [ 0.15741646 -1.18583667]]\n",
      "y:\n",
      "[[ 0.04322569  0.6794765 ]]\n"
     ]
    }
   ],
   "source": [
    "W = tf.Variable(tf.random_normal([3, 2]))\n",
    "b = tf.Variable(tf.random_normal([1, 2]))\n",
    "X = tf.Variable([[0.4,0.2,0.4]])\n",
    "y=tf.nn.relu(tf.matmul(X,W)+b)\n",
    "with tf.Session() as sess:\n",
    "    init = tf.global_variables_initializer()\n",
    "    sess.run(init)\n",
    "    (_b,_W,_y)=sess.run((b,W,y))\n",
    "    print('b:')\n",
    "    print(_b)\n",
    "    print('W:')\n",
    "    print(_W)\n",
    "    print('y:')\n",
    "    print(_y)   "
   ]
  },
  {
   "cell_type": "markdown",
   "metadata": {},
   "source": [
    "# placeholder"
   ]
  },
  {
   "cell_type": "code",
   "execution_count": 6,
   "metadata": {},
   "outputs": [
    {
     "name": "stdout",
     "output_type": "stream",
     "text": [
      "b:\n",
      "[[ 0.41363722 -0.24339159]]\n",
      "W:\n",
      "[[-0.61049062  0.88502401]\n",
      " [ 1.033198   -1.05117571]\n",
      " [-1.56100059 -1.01690781]]\n",
      "X:\n",
      "[[ 0.40000001  0.2         0.40000001]]\n",
      "y:\n",
      "[[ 0.  0.]]\n"
     ]
    }
   ],
   "source": [
    "W = tf.Variable(tf.random_normal([3, 2]))\n",
    "b = tf.Variable(tf.random_normal([1, 2]))\n",
    "X = tf.placeholder(\"float\", [None,3])\n",
    "y=tf.nn.relu(tf.matmul(X,W)+b)\n",
    "with tf.Session() as sess:\n",
    "    init = tf.global_variables_initializer()\n",
    "    sess.run(init)\n",
    "    X_array = np.array([[0.4,0.2,0.4]])\n",
    "    (_b,_W,_X,_y)=sess.run((b,W,X,y),feed_dict={X:X_array})\n",
    "    print('b:')\n",
    "    print(_b)    \n",
    "    print('W:')\n",
    "    print(_W)\n",
    "    print('X:')\n",
    "    print(_X)\n",
    "    print('y:')\n",
    "    print(_y)"
   ]
  },
  {
   "cell_type": "code",
   "execution_count": 7,
   "metadata": {},
   "outputs": [
    {
     "data": {
      "text/plain": [
       "(1, 2)"
      ]
     },
     "execution_count": 7,
     "metadata": {},
     "output_type": "execute_result"
    }
   ],
   "source": [
    "_y.shape"
   ]
  },
  {
   "cell_type": "code",
   "execution_count": 8,
   "metadata": {},
   "outputs": [
    {
     "name": "stdout",
     "output_type": "stream",
     "text": [
      "1000\n",
      "[ -9.20234621e-01   9.89740431e-01   1.20338213e+00  -1.11786254e-01\n",
      "   1.91649401e+00  -1.63984388e-01  -7.00924873e-01  -2.30793786e+00\n",
      "  -1.72770381e-01  -1.05811548e+00   2.60550112e-01   8.44017208e-01\n",
      "   4.46180260e-04   1.24882615e+00   3.47817391e-01  -1.99752107e-01\n",
      "   7.44648159e-01   8.73246670e-01   1.34039128e+00  -1.28954268e+00\n",
      "   1.00313711e+00   9.63395476e-01   5.24089158e-01   3.60491186e-01\n",
      "  -9.34735894e-01  -1.07801877e-01  -1.08912480e+00   4.17594239e-02\n",
      "  -2.30009294e+00  -3.32804844e-02]\n"
     ]
    }
   ],
   "source": [
    "ts_norm = tf.random_normal([1000])\n",
    "with tf.Session() as session:\n",
    "    norm_data=ts_norm.eval()\n",
    "print(len(norm_data))\n",
    "print(norm_data[:30])"
   ]
  },
  {
   "cell_type": "code",
   "execution_count": 10,
   "metadata": {},
   "outputs": [
    {
     "data": {
      "image/png": "[encoded data removed]",
      "text/plain": [
       "<matplotlib.figure.Figure at 0x10da11940>"
      ]
     },
     "metadata": {},
     "output_type": "display_data"
    }
   ],
   "source": [
    "import matplotlib.pyplot as plt\n",
    "plt.hist(norm_data)\n",
    "plt.show()"
   ]
  },
  {
   "cell_type": "code",
   "execution_count": 11,
   "metadata": {},
   "outputs": [
    {
     "name": "stdout",
     "output_type": "stream",
     "text": [
      "b:\n",
      "[[ 0.16503753  0.10112455]]\n",
      "W:\n",
      "[[-0.21207029 -0.216416  ]\n",
      " [ 1.24721384 -0.35464513]\n",
      " [ 0.06229867 -1.11482501]]\n",
      "X:\n",
      "[[ 0.40000001  0.2         0.40000001]\n",
      " [ 0.30000001  0.40000001  0.5       ]\n",
      " [ 0.30000001 -0.40000001  0.5       ]]\n",
      "y:\n",
      "[[ 0.58772576  0.37700009]\n",
      " [ 0.6528185   0.34005013]\n",
      " [ 0.40943059  0.40628251]]\n"
     ]
    }
   ],
   "source": [
    "W = tf.Variable(tf.random_normal([3, 2]))\n",
    "b = tf.Variable(tf.random_normal([1, 2]))\n",
    "X = tf.placeholder(\"float\", [None,3])\n",
    "y=tf.nn.sigmoid(tf.matmul(X,W)+b)\n",
    "with tf.Session() as sess:\n",
    "    init = tf.global_variables_initializer()\n",
    "    sess.run(init)\n",
    "    X_array = np.array([[0.4,0.2 ,0.4],\n",
    "                        [0.3,0.4 ,0.5],\n",
    "                        [0.3,-0.4,0.5]])    \n",
    "    (_b,_W,_X,_y)=sess.run((b,W,X,y),feed_dict={X:X_array})\n",
    "    print('b:')\n",
    "    print(_b)    \n",
    "    print('W:')\n",
    "    print(_W)\n",
    "    print('X:')\n",
    "    print(_X)\n",
    "    print('y:')\n",
    "    print(_y)"
   ]
  },
  {
   "cell_type": "code",
   "execution_count": 12,
   "metadata": {},
   "outputs": [],
   "source": [
    "def layer(output_dim,input_dim,inputs, activation=None):\n",
    "    W = tf.Variable(tf.random_normal([input_dim, output_dim]))\n",
    "    b = tf.Variable(tf.random_normal([1, output_dim]))\n",
    "    XWb = tf.matmul(inputs, W) + b\n",
    "    if activation is None:\n",
    "        outputs = XWb\n",
    "    else:\n",
    "        outputs = activation(XWb)\n",
    "    return outputs"
   ]
  },
  {
   "cell_type": "code",
   "execution_count": 13,
   "metadata": {},
   "outputs": [
    {
     "name": "stdout",
     "output_type": "stream",
     "text": [
      "X:\n",
      "[[ 0.40000001  0.2         0.40000001  0.1       ]\n",
      " [ 0.30000001  0.40000001  0.5         0.30000001]\n",
      " [ 0.30000001 -0.40000001  0.5         0.2       ]]\n",
      "y:\n",
      "[[ 0.40253186  0.          0.        ]\n",
      " [ 0.3611899   0.          0.        ]\n",
      " [ 1.27548397  0.          0.        ]]\n"
     ]
    }
   ],
   "source": [
    "X = tf.placeholder(\"float\", [None,4])\n",
    "\n",
    "y=layer(output_dim=3,input_dim=4,inputs=X,\n",
    "        activation=tf.nn.relu)\n",
    "\n",
    "with tf.Session() as sess:\n",
    "    init = tf.global_variables_initializer()\n",
    "    sess.run(init)\n",
    "    X_array = np.array([[0.4,0.2 ,0.4,0.1],\n",
    "                        [0.3,0.4 ,0.5,0.3],\n",
    "                        [0.3,-0.4,0.5,0.2]])    \n",
    "    (_X,_y)=sess.run((X,y),feed_dict={X:X_array})\n",
    "    print('X:')\n",
    "    print(_X)\n",
    "    print('y:')\n",
    "    print(_y)    "
   ]
  },
  {
   "cell_type": "code",
   "execution_count": 14,
   "metadata": {},
   "outputs": [
    {
     "name": "stdout",
     "output_type": "stream",
     "text": [
      "input Layer X:\n",
      "[[ 0.40000001  0.2         0.40000001  0.5       ]]\n",
      "hidden Layer h:\n",
      "[[ 0.          0.          3.93421745]]\n",
      "output Layer y:\n",
      "[[-3.84129763  3.24923086]]\n"
     ]
    }
   ],
   "source": [
    "X = tf.placeholder(\"float\", [None,4])\n",
    "h=layer(output_dim=3,input_dim=4,inputs=X,\n",
    "        activation=tf.nn.relu)\n",
    "y=layer(output_dim=2,input_dim=3,inputs=h)\n",
    "with tf.Session() as sess:\n",
    "    init = tf.global_variables_initializer()\n",
    "    sess.run(init)\n",
    "    X_array = np.array([[0.4,0.2 ,0.4,0.5]])    \n",
    "    (layer_X,layer_h,layer_y)= \\\n",
    "            sess.run((X,h,y),feed_dict={X:X_array})\n",
    "    print('input Layer X:')\n",
    "    print(layer_X)\n",
    "    print('hidden Layer h:')\n",
    "    print(layer_h)\n",
    "    print('output Layer y:')\n",
    "    print(layer_y)"
   ]
  },
  {
   "cell_type": "code",
   "execution_count": 15,
   "metadata": {},
   "outputs": [],
   "source": [
    "def layer_debug(output_dim,input_dim,inputs, activation=None):\n",
    "    W = tf.Variable(tf.random_normal([input_dim, output_dim]))\n",
    "    b = tf.Variable(tf.random_normal([1, output_dim]))\n",
    "    XWb = tf.matmul(inputs, W) + b\n",
    "    if activation is None:\n",
    "        outputs = XWb\n",
    "    else:\n",
    "        outputs = activation(XWb)\n",
    "    return outputs,W,b"
   ]
  },
  {
   "cell_type": "code",
   "execution_count": 16,
   "metadata": {},
   "outputs": [
    {
     "name": "stdout",
     "output_type": "stream",
     "text": [
      "input Layer X:\n",
      "[[ 0.40000001  0.2         0.40000001  0.5       ]]\n",
      "W1:\n",
      "[[ 0.67215675 -1.29510963  0.84228039]\n",
      " [ 0.24197748  0.22485003  1.37499321]\n",
      " [ 2.0528779  -0.83056825  0.42973232]\n",
      " [ 1.15186834  0.26193935  1.25670552]]\n",
      "b1:\n",
      "[[-1.56799293  0.41206703  0.59870934]]\n",
      "hidden Layer h:\n",
      "[[ 0.14635062  0.          2.01086593]]\n",
      "W2:\n",
      "[[-1.09592855 -1.23029828]\n",
      " [ 1.86971176  0.34395027]\n",
      " [ 0.15768228 -0.49389994]]\n",
      "b2:\n",
      "[[ 0.41095623  0.75513434]]\n",
      "output Layer y:\n",
      "[[ 0.56764436 -0.41808712]]\n"
     ]
    }
   ],
   "source": [
    "X = tf.placeholder(\"float\", [None,4])\n",
    "h,W1,b1=layer_debug(output_dim=3,input_dim=4,inputs=X,\n",
    "                    activation=tf.nn.relu)\n",
    "y,W2,b2=layer_debug(output_dim=2,input_dim=3,inputs=h)\n",
    "with tf.Session() as sess:\n",
    "    init = tf.global_variables_initializer()\n",
    "    sess.run(init)\n",
    "    X_array = np.array([[0.4,0.2 ,0.4,0.5]])    \n",
    "    (layer_X,layer_h,layer_y,W1,b1,W2,b2)= \\\n",
    "             sess.run((X,h,y,W1,b1,W2,b2),feed_dict={X:X_array})\n",
    "    print('input Layer X:')\n",
    "    print(layer_X)\n",
    "    print('W1:')\n",
    "    print(  W1)    \n",
    "    print('b1:')\n",
    "    print(  b1)    \n",
    "    print('hidden Layer h:')\n",
    "    print(layer_h)    \n",
    "    print('W2:')\n",
    "    print(  W2)    \n",
    "    print('b2:')\n",
    "    print(  b2)    \n",
    "    print('output Layer y:')\n",
    "    print(layer_y)"
   ]
  },
  {
   "cell_type": "code",
   "execution_count": null,
   "metadata": {},
   "outputs": [],
   "source": []
  }
 ],
 "metadata": {
  "anaconda-cloud": {},
  "kernelspec": {
   "display_name": "Python 3",
   "language": "python",
   "name": "python3"
  },
  "language_info": {
   "codemirror_mode": {
    "name": "ipython",
    "version": 3
   },
   "file_extension": ".py",
   "mimetype": "text/x-python",
   "name": "python",
   "nbconvert_exporter": "python",
   "pygments_lexer": "ipython3",
   "version": "3.6.4"
  }
 },
 "nbformat": 4,
 "nbformat_minor": 1
}
